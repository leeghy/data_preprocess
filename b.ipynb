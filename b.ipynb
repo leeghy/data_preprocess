{
 "cells": [
  {
   "cell_type": "code",
   "execution_count": 1,
   "metadata": {},
   "outputs": [],
   "source": [
    "import pandas as pd\n",
    "import numpy as np\n",
    "from scipy.interpolate import CubicSpline\n",
    "import matplotlib.pyplot as plt"
   ]
  },
  {
   "cell_type": "code",
   "execution_count": 3,
   "metadata": {},
   "outputs": [
    {
     "data": {
      "text/plain": [
       "(26255, 46)"
      ]
     },
     "execution_count": 3,
     "metadata": {},
     "output_type": "execute_result"
    }
   ],
   "source": [
    "data = pd.read_csv('경상대_날씨\\경상대_일자별관측.csv')\n",
    "\n",
    "# 전처리 column\n",
    "# WD, WS, PA, PS, TA, TD, HM, PV, RN, RN.1, RN.2, CA, CA.1, CH, VS, SS, SI, TS\n",
    "\n",
    "data.shape"
   ]
  },
  {
   "cell_type": "code",
   "execution_count": 4,
   "metadata": {},
   "outputs": [],
   "source": [
    "# 전처리할 칼럼 리스트\n",
    "columns_to_process = ['WD', 'WS', 'PA', 'PS', 'TA', 'TD', 'HM', \n",
    "                     'PV', 'RN', 'RN.1', 'RN.2', 'CA', 'CA.1', \n",
    "                     'CH', 'VS', 'SS', 'SI', 'TS']"
   ]
  },
  {
   "cell_type": "code",
   "execution_count": 5,
   "metadata": {},
   "outputs": [],
   "source": [
    "def preprocess_weather_data(df, columns_to_process):\n",
    "    \"\"\"\n",
    "    기상 데이터의 결측값을 처리하고 스플라인 보간을 수행하는 함수\n",
    "    \"\"\"\n",
    "    df_processed = df.copy()\n",
    "    \n",
    "    print(\"\\nProcessing columns:\")\n",
    "    for column in columns_to_process:\n",
    "        if column in df_processed.columns:\n",
    "            print(f\"\\nProcessing {column}:\")\n",
    "            print(f\"Missing values before: {df_processed[column].isin([-9, -99]).sum()}\")\n",
    "            \n",
    "            # -9와 -99를 NaN으로 변환\n",
    "            df_processed[column] = df_processed[column].replace([-9, -99], np.nan)\n",
    "            \n",
    "            # 결측값이 있는 경우에만 보간 수행\n",
    "            if df_processed[column].isna().any():\n",
    "                # 인덱스 배열 생성\n",
    "                x = np.arange(len(df_processed))\n",
    "                y = df_processed[column].values\n",
    "                \n",
    "                # NaN이 아닌 값들의 인덱스와 값 추출\n",
    "                mask = ~np.isnan(y)\n",
    "                x_known = x[mask]\n",
    "                y_known = y[mask]\n",
    "                \n",
    "                # 최소 4개의 데이터 포인트가 필요\n",
    "                if len(x_known) > 3:\n",
    "                    # 스플라인 보간 수행\n",
    "                    cs = CubicSpline(x_known, y_known)\n",
    "                    y_interpolated = cs(x)\n",
    "                    df_processed[column] = y_interpolated\n",
    "                else:\n",
    "                    # 데이터가 부족한 경우 선형 보간으로 대체\n",
    "                    df_processed[column] = df_processed[column].interpolate(method='linear')\n",
    "            \n",
    "            print(f\"Missing values after: {df_processed[column].isna().sum()}\")\n",
    "    \n",
    "    return df_processed\n"
   ]
  },
  {
   "cell_type": "code",
   "execution_count": 6,
   "metadata": {},
   "outputs": [
    {
     "name": "stdout",
     "output_type": "stream",
     "text": [
      "\n",
      "Processing columns:\n",
      "\n",
      "Processing WD:\n",
      "Missing values before: 5\n",
      "Missing values after: 0\n",
      "\n",
      "Processing WS:\n",
      "Missing values before: 5\n",
      "Missing values after: 0\n",
      "\n",
      "Processing PA:\n",
      "Missing values before: 4\n",
      "Missing values after: 0\n",
      "\n",
      "Processing PS:\n",
      "Missing values before: 4\n",
      "Missing values after: 0\n",
      "\n",
      "Processing TA:\n",
      "Missing values before: 7\n",
      "Missing values after: 0\n",
      "\n",
      "Processing TD:\n",
      "Missing values before: 82\n",
      "Missing values after: 0\n",
      "\n",
      "Processing HM:\n",
      "Missing values before: 26\n",
      "Missing values after: 0\n",
      "\n",
      "Processing PV:\n",
      "Missing values before: 26\n",
      "Missing values after: 0\n",
      "\n",
      "Processing RN:\n",
      "Missing values before: 24105\n",
      "Missing values after: 0\n",
      "\n",
      "Processing RN.1:\n",
      "Missing values before: 20231\n",
      "Missing values after: 0\n",
      "\n",
      "Processing RN.2:\n",
      "Missing values before: 20231\n",
      "Missing values after: 0\n",
      "\n",
      "Processing CA:\n",
      "Missing values before: 46\n",
      "Missing values after: 0\n",
      "\n",
      "Processing CA.1:\n",
      "Missing values before: 260\n",
      "Missing values after: 0\n",
      "\n",
      "Processing CH:\n",
      "Missing values before: 10936\n",
      "Missing values after: 0\n",
      "\n",
      "Processing VS:\n",
      "Missing values before: 358\n",
      "Missing values after: 0\n",
      "\n",
      "Processing SS:\n",
      "Missing values before: 11885\n",
      "Missing values after: 0\n",
      "\n",
      "Processing SI:\n",
      "Missing values before: 11886\n",
      "Missing values after: 0\n",
      "\n",
      "Processing TS:\n",
      "Missing values before: 8\n",
      "Missing values after: 0\n"
     ]
    }
   ],
   "source": [
    "# 전처리 수행\n",
    "processed_data = preprocess_weather_data(data, columns_to_process)"
   ]
  },
  {
   "cell_type": "code",
   "execution_count": 7,
   "metadata": {},
   "outputs": [
    {
     "name": "stdout",
     "output_type": "stream",
     "text": [
      "\n",
      "Preprocessing complete!\n",
      "Final data shape: (26255, 46)\n"
     ]
    }
   ],
   "source": [
    "# 결과 확인\n",
    "print(\"\\nPreprocessing complete!\")\n",
    "print(f\"Final data shape: {processed_data.shape}\")"
   ]
  },
  {
   "cell_type": "code",
   "execution_count": 8,
   "metadata": {},
   "outputs": [
    {
     "name": "stdout",
     "output_type": "stream",
     "text": [
      "\n",
      "Processed data saved to: 경상대_날씨/경상대_일자별관측_processed.csv\n"
     ]
    }
   ],
   "source": [
    "# 전처리된 데이터 저장\n",
    "processed_data.to_csv('경상대_날씨/경상대_일자별관측_processed.csv', index=False)\n",
    "print(\"\\nProcessed data saved to: 경상대_날씨/경상대_일자별관측_processed.csv\")"
   ]
  },
  {
   "cell_type": "code",
   "execution_count": null,
   "metadata": {},
   "outputs": [],
   "source": []
  }
 ],
 "metadata": {
  "kernelspec": {
   "display_name": "data",
   "language": "python",
   "name": "python3"
  },
  "language_info": {
   "codemirror_mode": {
    "name": "ipython",
    "version": 3
   },
   "file_extension": ".py",
   "mimetype": "text/x-python",
   "name": "python",
   "nbconvert_exporter": "python",
   "pygments_lexer": "ipython3",
   "version": "3.10.16"
  }
 },
 "nbformat": 4,
 "nbformat_minor": 2
}
